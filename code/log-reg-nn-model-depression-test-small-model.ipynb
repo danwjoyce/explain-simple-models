{
 "cells": [
  {
   "cell_type": "code",
   "execution_count": 1,
   "metadata": {},
   "outputs": [],
   "source": [
    "# set up a GPU\n",
    "import os\n",
    "os.environ[\"CUDA_DEVICE_ORDER\"]=\"PCI_BUS_ID\" \n",
    "os.environ[\"CUDA_VISIBLE_DEVICES\"]=\"0, 1\"\n"
   ]
  },
  {
   "cell_type": "code",
   "execution_count": 2,
   "metadata": {},
   "outputs": [],
   "source": [
    "import numpy as np\n",
    "import pandas as pd\n",
    "import torch\n",
    "from torch.utils.data import Dataset, DataLoader\n",
    "import torch.nn as nn\n",
    "\n",
    "from datautils import GenDataset\n",
    "from networkmodels import Network1, load_network, save_network"
   ]
  },
  {
   "cell_type": "code",
   "execution_count": 3,
   "metadata": {},
   "outputs": [
    {
     "name": "stdout",
     "output_type": "stream",
     "text": [
      "Using -- cuda\n"
     ]
    }
   ],
   "source": [
    "# test GPU working (output should be \"Using -- cuda\")\n",
    "device = torch.device('cuda' if torch.cuda.is_available() else 'cpu')\n",
    "print( \"Using --\", device )"
   ]
  },
  {
   "cell_type": "code",
   "execution_count": 4,
   "metadata": {},
   "outputs": [
    {
     "name": "stdout",
     "output_type": "stream",
     "text": [
      " Data Input size = 8\n",
      " Data Target size = 1\n"
     ]
    }
   ],
   "source": [
    "# load build data set \n",
    "filename = '../sim-data/population-sample.csv'\n",
    "\n",
    "pred_vars_to_use = [\"Age\", \"Sex\", \"MDD_hx\", \"Rx_hx\", \"Py_hx\", \"Sev\", \"Dur\", \"MDD_dx\"]\n",
    "target_var_to_use = [\"Offer_Rx\"]\n",
    "\n",
    "# instantiate the data loader for the actual data\n",
    "test_data = GenDataset( filename, pred_vars_to_use, target_var_to_use, trainflag = False )\n",
    "test_loader = DataLoader(test_data, batch_size= len( test_data), shuffle = False, num_workers=2 )\n",
    "\n",
    "# establish input/output dimensions\n",
    "test_x, test_y = next(iter(test_loader))\n",
    "\n",
    "input_size = test_x[0].shape[0]\n",
    "output_size = test_y[0].shape[0]\n",
    "\n",
    "print(f\" Data Input size = {input_size}\")\n",
    "print(f\" Data Target size = {output_size}\")"
   ]
  },
  {
   "cell_type": "code",
   "execution_count": 5,
   "metadata": {},
   "outputs": [
    {
     "name": "stdout",
     "output_type": "stream",
     "text": [
      "Model Activations Total = 2\n"
     ]
    }
   ],
   "source": [
    "# instantiate network\n",
    "model = Network1( input_size, output_size)\n",
    "\n",
    "# restore state from epoch 29\n",
    "load_network( model, 'net_29.pth')\n",
    "print(f\"Model Activations Total = {model.total_activations}\")\n",
    "# print( model.state_dict()[\"linear.weight\"].numpy() )\n",
    "# print( model.state_dict()[\"linear.bias\"].numpy() )"
   ]
  },
  {
   "cell_type": "code",
   "execution_count": 20,
   "metadata": {},
   "outputs": [],
   "source": [
    "dataset = test_loader.dataset\n",
    "this_input = dataset[1][0]\n",
    "this_label = dataset[1][1]\n",
    "\n",
    "acts = np.zeros( shape = ( len(dataset), model.total_activations ) )\n",
    "sample_data = np.zeros( shape = ( len(dataset), len( this_input ) ) )\n",
    "sample_target = np.zeros( shape = ( len(dataset), 1 ) )\n",
    "\n",
    "for i in range(len( dataset ) ):\n",
    "    this_input = dataset[i][0]\n",
    "    this_label = dataset[i][1]\n",
    "    activations_vector = model.get_activations( this_input )\n",
    "    acts[i,:] = activations_vector\n",
    "    sample_data[i,:] = this_input\n",
    "    sample_target[i,:] = this_label \n",
    "\n",
    "df = pd.DataFrame( np.hstack([sample_data, acts, sample_target]) )\n",
    "df.to_csv('../out-data/acts-one-layer-model.csv', header = False)\n"
   ]
  },
  {
   "cell_type": "code",
   "execution_count": 17,
   "metadata": {},
   "outputs": [
    {
     "name": "stdout",
     "output_type": "stream",
     "text": [
      "[[21.          0.          1.         ...  2.40099692  0.91690332\n",
      "   1.        ]\n",
      " [37.          1.          0.         ...  1.84118295  0.86308855\n",
      "   0.        ]\n",
      " [46.          0.          0.         ...  4.89149904  0.99254578\n",
      "   1.        ]\n",
      " ...\n",
      " [77.          1.          0.         ...  1.42974591  0.8068617\n",
      "   1.        ]\n",
      " [49.          1.          0.         ...  2.24327135  0.90406853\n",
      "   1.        ]\n",
      " [35.          0.          1.         ... -1.1418252   0.24198541\n",
      "   0.        ]]\n"
     ]
    }
   ],
   "source": [
    "print(  )"
   ]
  },
  {
   "cell_type": "code",
   "execution_count": 22,
   "metadata": {},
   "outputs": [
    {
     "name": "stdout",
     "output_type": "stream",
     "text": [
      "tensor([2.5366])\n",
      "tensor([0.9267])\n",
      "<class 'torch.Tensor'>\n"
     ]
    }
   ],
   "source": [
    "\n",
    "\n",
    "\n",
    "# print( np.vstack([c,c]) )\n",
    "\n",
    "# a = np.array([1, 2, 3])\n",
    "# b = np.array([5, 6])\n",
    "# a = np.concatenate([a, b])\n",
    "\n",
    "# c = np.array([3.4,1.2,8.9])\n",
    "# a = np.concatenate([a,c])\n",
    "\n",
    "print(type(this_input))\n",
    "\n",
    "\n"
   ]
  }
 ],
 "metadata": {
  "kernelspec": {
   "display_name": "Python 3.6.9 ('explain-paper')",
   "language": "python",
   "name": "python3"
  },
  "language_info": {
   "codemirror_mode": {
    "name": "ipython",
    "version": 3
   },
   "file_extension": ".py",
   "mimetype": "text/x-python",
   "name": "python",
   "nbconvert_exporter": "python",
   "pygments_lexer": "ipython3",
   "version": "3.6.9"
  },
  "orig_nbformat": 4,
  "vscode": {
   "interpreter": {
    "hash": "7dbe341428fbea043c2b22a416b5c5238ef47c89cab20ec188e996942de7c3cf"
   }
  }
 },
 "nbformat": 4,
 "nbformat_minor": 2
}
