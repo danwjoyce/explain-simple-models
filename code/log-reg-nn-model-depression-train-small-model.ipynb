{
 "cells": [
  {
   "cell_type": "code",
   "execution_count": 1,
   "metadata": {},
   "outputs": [],
   "source": [
    "# set up a GPU\n",
    "import os\n",
    "os.environ[\"CUDA_DEVICE_ORDER\"]=\"PCI_BUS_ID\" \n",
    "os.environ[\"CUDA_VISIBLE_DEVICES\"]=\"0, 1\"\n"
   ]
  },
  {
   "cell_type": "code",
   "execution_count": 2,
   "metadata": {},
   "outputs": [],
   "source": [
    "import numpy as np\n",
    "import pandas as pd\n",
    "import torch\n",
    "from torch.utils.data import Dataset, DataLoader\n",
    "import torch.nn as nn\n",
    "\n",
    "from datautils import GenDataset\n",
    "from networkmodels import Network1, load_network, save_network"
   ]
  },
  {
   "cell_type": "code",
   "execution_count": 3,
   "metadata": {},
   "outputs": [
    {
     "name": "stdout",
     "output_type": "stream",
     "text": [
      "Using -- cuda\n"
     ]
    }
   ],
   "source": [
    "# test GPU working (output should be \"Using -- cuda\")\n",
    "device = torch.device('cuda' if torch.cuda.is_available() else 'cpu')\n",
    "print( \"Using --\", device )"
   ]
  },
  {
   "cell_type": "code",
   "execution_count": 4,
   "metadata": {},
   "outputs": [],
   "source": [
    "# load build data set \n",
    "filename = '../sim-data/population-sample.csv'\n",
    "\n",
    "pred_vars_to_use = [\"Age\", \"Sex\", \"MDD_hx\", \"Rx_hx\", \"Py_hx\", \"Sev\", \"Dur\", \"MDD_dx\"]\n",
    "target_var_to_use = [\"Offer_Rx\"]\n",
    "\n",
    "# instantiate the data loader for the actual data\n",
    "train_data = GenDataset( filename, pred_vars_to_use, target_var_to_use, trainflag = True )\n",
    "test_data = GenDataset( filename, pred_vars_to_use, target_var_to_use, trainflag = False )\n",
    "\n"
   ]
  },
  {
   "cell_type": "code",
   "execution_count": 5,
   "metadata": {},
   "outputs": [],
   "source": [
    "\n",
    "\n",
    "train_loader = DataLoader(train_data, batch_size=len( train_data ), shuffle=True, num_workers=2)\n",
    "test_loader = DataLoader(test_data, batch_size= len( test_data), shuffle = True, num_workers=2 )\n",
    "\n",
    "# print( len( train_loader ) )\n",
    "# print( len( test_loader ) )\n",
    "\n",
    "# print( len( train_data ))\n",
    "# print( len( test_data ) )"
   ]
  },
  {
   "cell_type": "code",
   "execution_count": 6,
   "metadata": {},
   "outputs": [],
   "source": [
    "# establish input/output dimensions\n",
    "train_x, train_y = next(iter(train_loader))\n",
    "\n",
    "input_size = train_x[0].shape[0]\n",
    "output_size = train_y[0].shape[0]\n",
    "\n"
   ]
  },
  {
   "cell_type": "code",
   "execution_count": 7,
   "metadata": {},
   "outputs": [
    {
     "name": "stdout",
     "output_type": "stream",
     "text": [
      "<bound method Module.parameters of Network1(\n",
      "  (linear): Linear(in_features=8, out_features=1, bias=True)\n",
      ")>\n",
      " Total Activations = 2\n"
     ]
    }
   ],
   "source": [
    "# learning params\n",
    "learn_rate = 0.005\n",
    "\n",
    "# instantiate network\n",
    "model = Network1(input_size, output_size)\n",
    "print( model.parameters )\n",
    "\n",
    "print(f\" Total Activations = {model.total_activations}\")\n",
    "\n",
    "# define loss and optimizer algorithm\n",
    "criterion_train = nn.BCELoss(reduction = 'mean')\n",
    "optimizer = torch.optim.SGD(model.parameters(), lr=learn_rate)\n",
    "\n",
    "# define a separate loss for measuring validation performance\n",
    "criterion_valid = nn.BCELoss(reduction = 'mean')\n"
   ]
  },
  {
   "cell_type": "code",
   "execution_count": 8,
   "metadata": {},
   "outputs": [
    {
     "name": "stdout",
     "output_type": "stream",
     "text": [
      "Completed Epoch  0\n",
      "Completed Epoch  1\n",
      "Completed Epoch  2\n",
      "Completed Epoch  3\n",
      "Completed Epoch  4\n",
      "Completed Epoch  5\n",
      "Completed Epoch  6\n",
      "Completed Epoch  7\n",
      "Completed Epoch  8\n",
      "Completed Epoch  9\n",
      "Completed Epoch  10\n",
      "Completed Epoch  11\n",
      "Completed Epoch  12\n",
      "Completed Epoch  13\n",
      "Completed Epoch  14\n",
      "Completed Epoch  15\n",
      "Completed Epoch  16\n",
      "Completed Epoch  17\n",
      "Completed Epoch  18\n",
      "Completed Epoch  19\n",
      "Completed Epoch  20\n",
      "Completed Epoch  21\n",
      "Completed Epoch  22\n",
      "Completed Epoch  23\n",
      "Completed Epoch  24\n",
      "Completed Epoch  25\n",
      "Completed Epoch  26\n",
      "Completed Epoch  27\n",
      "Completed Epoch  28\n",
      "Completed Epoch  29\n",
      "Completed Epoch  30\n",
      "Completed Epoch  31\n",
      "Completed Epoch  32\n",
      "Completed Epoch  33\n",
      "Completed Epoch  34\n",
      "Completed Epoch  35\n",
      "Completed Epoch  36\n",
      "Completed Epoch  37\n",
      "Completed Epoch  38\n",
      "Completed Epoch  39\n",
      "Completed Epoch  40\n",
      "Completed Epoch  41\n",
      "Completed Epoch  42\n",
      "Completed Epoch  43\n",
      "Completed Epoch  44\n",
      "Completed Epoch  45\n",
      "Completed Epoch  46\n",
      "Completed Epoch  47\n",
      "Completed Epoch  48\n",
      "Completed Epoch  49\n"
     ]
    }
   ],
   "source": [
    "epochs = 50\n",
    "\n",
    "train_loss_epoch = np.zeros(epochs)\n",
    "test_loss_epoch = np.zeros(epochs)\n",
    "\n",
    "N_train = len( train_data )\n",
    "N_test = len( test_data )\n",
    "\n",
    "# load stuff onto GPU\n",
    "model.to(device)\n",
    "\n",
    "for epoch in range(epochs):\n",
    "  train_running_loss = 0.0\n",
    "  test_running_loss = 0.0\n",
    "  \n",
    "  # training for one epoch\n",
    "  model.train()\n",
    "  for inputs, labels in train_loader:\n",
    "    inputs, labels = inputs.to(device), labels.to(device)\n",
    "    # set optimizer to zero grad to remove previous epoch gradients\n",
    "    optimizer.zero_grad()\n",
    "    # forward propagation\n",
    "    outputs = model(inputs)\n",
    "    loss = criterion_train(outputs, labels)\n",
    "    # backward propagation\n",
    "    loss.backward()\n",
    "    # optimize\n",
    "    optimizer.step()\n",
    "    # this line sums the loss over one epoch\n",
    "    train_running_loss += loss.item() \n",
    "\n",
    "  # out-of-sample performance for one epoch of training\n",
    "  model.eval() ## switches off dropout and batchnorm layer behaviours\n",
    "  with torch.no_grad(): ## disable gradient calculation\n",
    "    for test_inputs, test_labels in test_loader:\n",
    "      test_inputs, test_labels = test_inputs.to(device), test_labels.to(device)\n",
    "      test_outputs = model( test_inputs )\n",
    "      test_loss = criterion_valid( test_outputs, test_labels )\n",
    "      test_running_loss += test_loss.item()\n",
    "      \n",
    "\n",
    "  train_loss_epoch[epoch] = train_running_loss / N_train\n",
    "  test_loss_epoch[epoch]  = test_running_loss / N_test\n",
    "  print(\"Completed Epoch \", epoch)\n",
    "\n",
    "  if epoch % 10 == 9:\n",
    "    save_network( model, epoch)\n",
    "\n"
   ]
  },
  {
   "cell_type": "code",
   "execution_count": 9,
   "metadata": {},
   "outputs": [
    {
     "data": {
      "image/png": "[encoded data removed]",
      "text/plain": [
       "<Figure size 1440x360 with 2 Axes>"
      ]
     },
     "metadata": {
      "needs_background": "light"
     },
     "output_type": "display_data"
    }
   ],
   "source": [
    "import matplotlib as mpl\n",
    "import matplotlib.pyplot as plt\n",
    "\n",
    "fig, (ax1, ax2) = plt.subplots( 1,2, figsize = (20, 5) )\n",
    "ax1.plot( list(range(0,len(train_loss_epoch))), train_loss_epoch )\n",
    "ax2.plot( list(range(0,len(train_loss_epoch))), test_loss_epoch )\n",
    "ax1.title.set_text('Train Loss')\n",
    "ax2.title.set_text('Test Loss')"
   ]
  },
  {
   "cell_type": "code",
   "execution_count": 10,
   "metadata": {},
   "outputs": [],
   "source": [
    "# # After training (above) : ../net-states contains the network state at 10 epoch intervals.\n",
    "\n",
    "\n",
    "# # instantiate network\n",
    "# model2 = Network1( input_size, output_size)\n",
    "\n",
    "# # prove its initialised\n",
    "# model2.print_layer_names()\n",
    "# print( model2.state_dict()[\"linear.weight\"].numpy() )\n",
    "# print( model2.state_dict()[\"linear.bias\"].numpy() )"
   ]
  },
  {
   "cell_type": "code",
   "execution_count": 11,
   "metadata": {},
   "outputs": [],
   "source": [
    "# # restore state from epoch 29\n",
    "# load_network( model2, 'net_29.pth')\n",
    "# print( model2.state_dict()[\"linear.weight\"].numpy() )\n",
    "# print( model2.state_dict()[\"linear.bias\"].numpy() )"
   ]
  },
  {
   "cell_type": "code",
   "execution_count": 12,
   "metadata": {},
   "outputs": [],
   "source": [
    "# do some inference to show it working\n",
    "\n",
    "# model2.to(device)\n",
    "# model2.eval() ## switches off dropout and batchnorm layer behaviours\n",
    "# with torch.no_grad(): ## disable gradient calculation\n",
    "#     for test_inputs, test_labels in test_loader:\n",
    "#       #test_inputs, test_labels = test_inputs.to(device), test_labels.to(device)\n",
    "#       test_inputs = test_inputs.to(device)\n",
    "#       test_outputs = model2( test_inputs )\n",
    "#       print( test_outputs.shape )\n",
    "\n",
    "\n"
   ]
  },
  {
   "cell_type": "code",
   "execution_count": 13,
   "metadata": {},
   "outputs": [],
   "source": [
    "# # do individual (sample) predictions on CPU\n",
    "# # this is because I can't get a single sample out of a data loader and onto the GPU with the model.\n",
    "\n",
    "# sample_idx = 298\n",
    "\n",
    "# dataset = test_loader.dataset\n",
    "# this_input = dataset[sample_idx][0]\n",
    "# this_label = dataset[sample_idx][1]\n",
    "\n",
    "# with torch.no_grad():\n",
    "#      first_layer = model2.forward_layer1( this_input )\n",
    "#      print( first_layer )\n",
    "#      second_layer = model2.forward_layer2( first_layer )\n",
    "#      print( second_layer )\n",
    "#      # output = model2(this_input)\n",
    "\n",
    "\n",
    "# print('Target = ' + str(this_label) )\n",
    "\n",
    "\n"
   ]
  }
 ],
 "metadata": {
  "kernelspec": {
   "display_name": "explain-paper",
   "language": "python",
   "name": "explain-paper"
  },
  "language_info": {
   "codemirror_mode": {
    "name": "ipython",
    "version": 3
   },
   "file_extension": ".py",
   "mimetype": "text/x-python",
   "name": "python",
   "nbconvert_exporter": "python",
   "pygments_lexer": "ipython3",
   "version": "3.6.9"
  },
  "orig_nbformat": 4,
  "vscode": {
   "interpreter": {
    "hash": "7dbe341428fbea043c2b22a416b5c5238ef47c89cab20ec188e996942de7c3cf"
   }
  }
 },
 "nbformat": 4,
 "nbformat_minor": 2
}
