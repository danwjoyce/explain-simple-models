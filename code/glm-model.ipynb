{
 "cells": [
  {
   "cell_type": "code",
   "execution_count": 1,
   "metadata": {},
   "outputs": [],
   "source": [
    "import pandas as pd\n",
    "import numpy as np\n",
    "import statsmodels.api as sm\n",
    "import os as os\n",
    "import statsmodels.formula.api as smf"
   ]
  },
  {
   "cell_type": "code",
   "execution_count": 2,
   "metadata": {},
   "outputs": [
    {
     "name": "stdout",
     "output_type": "stream",
     "text": [
      "    Age  Sex  MDD_hx  Rx_hx  Py_hx  Sev  Dur  MDD_dx  Offer_Py  Offer_Rx  \\\n",
      "ID                                                                         \n",
      "19   41    0       0      0      0   31   18       1         1         1   \n",
      "37   41    0       0      0      0   54    3       1         1         1   \n",
      "38   19    1       0      0      0   58    7       1         1         1   \n",
      "39   23    0       0      0      0   24    5       0         0         0   \n",
      "41   19    0       0      0      0   29    6       1         1         1   \n",
      "\n",
      "    Pref_Py  Pref_Rx  Reject_Py  Reject_Rx  Tx_Py  Tx_Rx  Satisfied Team  \\\n",
      "ID                                                                         \n",
      "19        1        0          0          1      1      0          0    A   \n",
      "37        1        1          0          0      1      1          0    A   \n",
      "38        0        0          1          1      0      0          0    A   \n",
      "39        1        1          0          0      0      0          2    A   \n",
      "41        0        0          1          1      0      0          0    A   \n",
      "\n",
      "    train  \n",
      "ID         \n",
      "19      1  \n",
      "37      1  \n",
      "38      1  \n",
      "39      1  \n",
      "41      1  \n"
     ]
    }
   ],
   "source": [
    "# print( os.getcwd() )\n",
    "\n",
    "df = pd.read_csv('../sim-data/population-sample.csv', index_col=0)\n",
    "#print( df.iloc[0:5,:] )\n",
    "\n",
    "df_train = df.loc[ df[\"train\"] == 1, : ]\n",
    "df_test  = df.loc[ df[\"train\"] == 0, : ]\n",
    "\n",
    "print( df_train.head() )"
   ]
  },
  {
   "cell_type": "code",
   "execution_count": 3,
   "metadata": {},
   "outputs": [
    {
     "name": "stdout",
     "output_type": "stream",
     "text": [
      "                 Generalized Linear Model Regression Results                  \n",
      "==============================================================================\n",
      "Dep. Variable:               Offer_Rx   No. Observations:                 2643\n",
      "Model:                            GLM   Df Residuals:                     2634\n",
      "Model Family:                Binomial   Df Model:                            8\n",
      "Link Function:                  logit   Scale:                          1.0000\n",
      "Method:                          IRLS   Log-Likelihood:                -295.04\n",
      "Date:                Fri, 15 Jul 2022   Deviance:                       590.08\n",
      "Time:                        16:33:35   Pearson chi2:                 1.07e+05\n",
      "No. Iterations:                     9                                         \n",
      "Covariance Type:            nonrobust                                         \n",
      "==============================================================================\n",
      "                 coef    std err          z      P>|z|      [0.025      0.975]\n",
      "------------------------------------------------------------------------------\n",
      "Intercept    -13.7896      0.986    -13.984      0.000     -15.722     -11.857\n",
      "Age            0.0044      0.007      0.629      0.529      -0.009       0.018\n",
      "Sex           -0.6255      0.223     -2.800      0.005      -1.063      -0.188\n",
      "MDD_hx         1.8475      0.437      4.230      0.000       0.992       2.703\n",
      "Rx_hx          0.2976      0.606      0.491      0.623      -0.890       1.485\n",
      "Py_hx         -0.6140      0.611     -1.005      0.315      -1.811       0.583\n",
      "Sev            0.2520      0.018     14.073      0.000       0.217       0.287\n",
      "Dur            0.1292      0.014      9.484      0.000       0.103       0.156\n",
      "MDD_dx         7.3790      0.571     12.914      0.000       6.259       8.499\n",
      "==============================================================================\n"
     ]
    }
   ],
   "source": [
    "model_formula = 'Offer_Rx ~ Age + Sex + MDD_hx + Rx_hx + Py_hx + Sev + Dur + MDD_dx'\n",
    "\n",
    "model = smf.glm(formula = model_formula, data=df_train, family=sm.families.Binomial())\n",
    "result = model.fit()\n",
    "print(result.summary())"
   ]
  },
  {
   "cell_type": "code",
   "execution_count": 39,
   "metadata": {},
   "outputs": [
    {
     "name": "stdout",
     "output_type": "stream",
     "text": [
      "ID\n",
      "24     0.979576\n",
      "40     0.003522\n",
      "66     0.999990\n",
      "85     0.803423\n",
      "110    0.990649\n",
      "dtype: float64\n"
     ]
    }
   ],
   "source": [
    "preds = result.predict(df_test)\n",
    "print( preds.head() )"
   ]
  }
 ],
 "metadata": {
  "kernelspec": {
   "display_name": "explain-paper",
   "language": "python",
   "name": "explain-paper"
  },
  "language_info": {
   "codemirror_mode": {
    "name": "ipython",
    "version": 3
   },
   "file_extension": ".py",
   "mimetype": "text/x-python",
   "name": "python",
   "nbconvert_exporter": "python",
   "pygments_lexer": "ipython3",
   "version": "3.6.9"
  },
  "orig_nbformat": 4,
  "vscode": {
   "interpreter": {
    "hash": "31f2aee4e71d21fbe5cf8b01ff0e069b9275f58929596ceb00d14d90e3e16cd6"
   }
  }
 },
 "nbformat": 4,
 "nbformat_minor": 2
}
